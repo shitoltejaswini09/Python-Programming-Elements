{
 "cells": [
  {
   "cell_type": "code",
   "execution_count": 1,
   "id": "089eca1d-5382-4f33-a37c-12b854c0ebd1",
   "metadata": {},
   "outputs": [
    {
     "name": "stdout",
     "output_type": "stream",
     "text": [
      "10\n",
      "20\n",
      "30\n",
      "40\n",
      "50\n"
     ]
    }
   ],
   "source": [
    "# iterate using for loop\n",
    "l = [10,20,30,40,50]\n",
    "\n",
    "for item in l:\n",
    "    print(item)"
   ]
  },
  {
   "cell_type": "code",
   "execution_count": 5,
   "id": "3b8d660e-7899-47f0-b2a0-9b3e5b039b1c",
   "metadata": {},
   "outputs": [
    {
     "name": "stdout",
     "output_type": "stream",
     "text": [
      "110\n",
      "120\n",
      "True\n",
      "130\n",
      "Hi\n",
      "140\n",
      "5.6\n",
      "False\n",
      "150\n",
      "python\n",
      "20.123\n"
     ]
    }
   ],
   "source": [
    "l = [10,20,True,30,\"Hi\", 40,5.6, False,50, \"python\", 20.123]\n",
    "for item in l:\n",
    "    if type(item) is int:\n",
    "        item += 100\n",
    "        print(item)\n",
    "    else:\n",
    "        print(item)"
   ]
  },
  {
   "cell_type": "code",
   "execution_count": 6,
   "id": "386ec33a-0e57-4a6a-a53c-55c8fa30ca40",
   "metadata": {},
   "outputs": [
    {
     "name": "stdout",
     "output_type": "stream",
     "text": [
      "original list: [10, 20, True, 30, 'Hi', 40, 5.6, False, 50, 'python', 20.123]\n",
      "110\n",
      "120\n",
      "True\n",
      "130\n",
      "Hi\n",
      "140\n",
      "5.6\n",
      "False\n",
      "150\n",
      "python\n",
      "20.123\n",
      "after change in iteration list: [10, 20, True, 30, 'Hi', 40, 5.6, False, 50, 'python', 20.123]\n"
     ]
    }
   ],
   "source": [
    "# changing iterable elements while iterating(for loop) will not affect the original object\n",
    "# iteration might be taking each element value not the reference\n",
    "l = [10,20,True,30,\"Hi\", 40,5.6, False,50, \"python\", 20.123]\n",
    "print('original list:', l)\n",
    "for item in l:\n",
    "    if type(item) is int:\n",
    "        item += 100\n",
    "        print(item)\n",
    "    else:\n",
    "        print(item)\n",
    "\n",
    "print('after change in iteration list:', l)"
   ]
  },
  {
   "cell_type": "code",
   "execution_count": 3,
   "id": "227a05fc-38db-4791-b171-3b6d58182672",
   "metadata": {},
   "outputs": [
    {
     "name": "stdout",
     "output_type": "stream",
     "text": [
      "200\n",
      "300\n",
      "True\n",
      "130\n",
      "welcome\n",
      "False\n",
      "150\n",
      "python\n",
      "200.123\n"
     ]
    }
   ],
   "source": [
    "t = (100,200,True,30,\"welcome\", False,50, \"python\", 200.123)\n",
    "for item in t:\n",
    "    if type(item) is int:\n",
    "        item += 100\n",
    "        print(item)\n",
    "    else:\n",
    "        print(item)"
   ]
  },
  {
   "cell_type": "code",
   "execution_count": 4,
   "id": "57a65e17-a9ab-4cd8-b271-4ff1254544d2",
   "metadata": {},
   "outputs": [
    {
     "name": "stdout",
     "output_type": "stream",
     "text": [
      "welcome\n",
      "True\n",
      "False\n",
      "2000\n",
      "1300\n",
      "3000\n",
      "2000.123\n",
      "1500\n",
      "python\n"
     ]
    }
   ],
   "source": [
    "s = {1000,2000,True,300,\"welcome\", False,500, \"python\", 2000.123}\n",
    "\n",
    "for item in s:\n",
    "    if type(item) is int:\n",
    "        item += 1000\n",
    "        print(item)\n",
    "    else:\n",
    "        print(item)"
   ]
  },
  {
   "cell_type": "code",
   "execution_count": 7,
   "id": "e46bf2d7-2c09-4164-bf11-1e9ec5d5ae89",
   "metadata": {},
   "outputs": [
    {
     "name": "stdout",
     "output_type": "stream",
     "text": [
      "name\n",
      "age\n",
      "city\n",
      "designation\n"
     ]
    }
   ],
   "source": [
    "d = {'name':'naveen', 'age':29, 'city':'Hyderabad', 'designation':'IT eng'}\n",
    "\n",
    "for item in d:\n",
    "    print(item)"
   ]
  },
  {
   "cell_type": "code",
   "execution_count": 8,
   "id": "6246b87c-181c-426d-b09e-0378d9fd659c",
   "metadata": {},
   "outputs": [
    {
     "name": "stdout",
     "output_type": "stream",
     "text": [
      "naveen\n",
      "29\n",
      "Hyderabad\n",
      "IT eng\n"
     ]
    }
   ],
   "source": [
    "for item in d.values():\n",
    "    print(item)"
   ]
  },
  {
   "cell_type": "code",
   "execution_count": 9,
   "id": "e630f3c2-4405-402b-820b-e3e4d0c59a14",
   "metadata": {},
   "outputs": [
    {
     "name": "stdout",
     "output_type": "stream",
     "text": [
      "name\n",
      "age\n",
      "city\n",
      "designation\n"
     ]
    }
   ],
   "source": [
    "for item in d.keys():\n",
    "    print(item)"
   ]
  },
  {
   "cell_type": "code",
   "execution_count": 10,
   "id": "d3695519-6365-4d7b-b5f4-790cfa4620bc",
   "metadata": {},
   "outputs": [
    {
     "name": "stdout",
     "output_type": "stream",
     "text": [
      "name naveen\n",
      "age 29\n",
      "city Hyderabad\n",
      "designation IT eng\n"
     ]
    }
   ],
   "source": [
    "for key, value in d.items():\n",
    "    print(key, value)"
   ]
  },
  {
   "cell_type": "code",
   "execution_count": 12,
   "id": "23136362-6a0a-41f0-b6d8-9fcb2b8656d8",
   "metadata": {},
   "outputs": [
    {
     "name": "stdout",
     "output_type": "stream",
     "text": [
      "dict: {'name': 'naveen', 'age': 29, 'city': 'Hyderabad', 'designation': 'IT eng'}\n",
      "keys: dict_keys(['name', 'age', 'city', 'designation'])\n",
      "values: dict_values(['naveen', 29, 'Hyderabad', 'IT eng'])\n",
      "items: dict_items([('name', 'naveen'), ('age', 29), ('city', 'Hyderabad'), ('designation', 'IT eng')])\n"
     ]
    }
   ],
   "source": [
    "keys = d.keys()\n",
    "values = d.values()\n",
    "items = d.items()\n",
    "print('dict:', d)\n",
    "print('keys:', keys)\n",
    "print('values:', values)\n",
    "print('items:', items)"
   ]
  },
  {
   "cell_type": "code",
   "execution_count": 13,
   "id": "bb4724c2-7444-4ad9-b475-78f9e5c30ce7",
   "metadata": {},
   "outputs": [
    {
     "name": "stdout",
     "output_type": "stream",
     "text": [
      "R\n",
      "a\n",
      "j\n",
      " \n",
      "C\n",
      "l\n",
      "o\n",
      "u\n",
      "d\n",
      " \n",
      "T\n",
      "e\n",
      "c\n",
      "h\n"
     ]
    }
   ],
   "source": [
    "s = \"Raj Cloud Tech\"\n",
    "for chr in s:\n",
    "    print(chr)"
   ]
  },
  {
   "cell_type": "code",
   "execution_count": 18,
   "id": "fd0f4188-78f1-4a9a-ada0-7ce83a910671",
   "metadata": {},
   "outputs": [
    {
     "name": "stdout",
     "output_type": "stream",
     "text": [
      "lenth of list 11\n",
      "lenth of tuple 11\n",
      "lenth of set 7\n",
      "lenth of dict 4\n",
      "lenth of string 14\n"
     ]
    }
   ],
   "source": [
    "l = [10,20,True,30,\"Hi\", 40,5.6, False,50, \"python\", 20.123]\n",
    "t = (100,200,True,30,\"welcome\", False,50, \"python\", 200.123, 25.25, 400)\n",
    "s = {1000,2000,True,300,\"welcome\", 500, \"python\"}\n",
    "d = {'name':'naveen', 'age':29, 'city':'Hyderabad', 'designation':'IT eng'}\n",
    "str = \"Raj Cloud Tech\"\n",
    "\n",
    "print('lenth of list', len(l))\n",
    "print('lenth of tuple', len(t))\n",
    "print('lenth of set', len(s))\n",
    "print('lenth of dict', len(d))\n",
    "print('lenth of string', len(str))"
   ]
  },
  {
   "cell_type": "code",
   "execution_count": 20,
   "id": "cd74a912-940c-4149-a08a-f275099841a0",
   "metadata": {},
   "outputs": [
    {
     "name": "stdout",
     "output_type": "stream",
     "text": [
      "length: 9\n",
      "{'welcome', 1, False, 1000, 10, 300, 2000, 500, 'python'}\n"
     ]
    }
   ],
   "source": [
    "# set takes unique values, exclude duplicates\n",
    "# 1 & True are same\n",
    "# 0 & False are same\n",
    "s = {1, 1000,2000,True,300,\"welcome\",False, 10, 500, \"python\", 0}\n",
    "print('length:', len(s))\n",
    "print(s)"
   ]
  },
  {
   "cell_type": "code",
   "execution_count": 23,
   "id": "5940c210-e71b-42f0-9eb7-f7902e6f88a4",
   "metadata": {},
   "outputs": [
    {
     "ename": "TypeError",
     "evalue": "'<' not supported between instances of 'str' and 'bool'",
     "output_type": "error",
     "traceback": [
      "\u001b[1;31m---------------------------------------------------------------------------\u001b[0m",
      "\u001b[1;31mTypeError\u001b[0m                                 Traceback (most recent call last)",
      "Cell \u001b[1;32mIn[23], line 7\u001b[0m\n\u001b[0;32m      4\u001b[0m d \u001b[38;5;241m=\u001b[39m {\u001b[38;5;124m'\u001b[39m\u001b[38;5;124mname\u001b[39m\u001b[38;5;124m'\u001b[39m:\u001b[38;5;124m'\u001b[39m\u001b[38;5;124mnaveen\u001b[39m\u001b[38;5;124m'\u001b[39m, \u001b[38;5;124m'\u001b[39m\u001b[38;5;124mage\u001b[39m\u001b[38;5;124m'\u001b[39m:\u001b[38;5;241m29\u001b[39m, \u001b[38;5;124m'\u001b[39m\u001b[38;5;124mcity\u001b[39m\u001b[38;5;124m'\u001b[39m:\u001b[38;5;124m'\u001b[39m\u001b[38;5;124mHyderabad\u001b[39m\u001b[38;5;124m'\u001b[39m, \u001b[38;5;124m'\u001b[39m\u001b[38;5;124mdesignation\u001b[39m\u001b[38;5;124m'\u001b[39m:\u001b[38;5;124m'\u001b[39m\u001b[38;5;124mIT eng\u001b[39m\u001b[38;5;124m'\u001b[39m}\n\u001b[0;32m      5\u001b[0m \u001b[38;5;28mstr\u001b[39m \u001b[38;5;241m=\u001b[39m \u001b[38;5;124m\"\u001b[39m\u001b[38;5;124mRaj Cloud Tech\u001b[39m\u001b[38;5;124m\"\u001b[39m\n\u001b[1;32m----> 7\u001b[0m \u001b[38;5;28mprint\u001b[39m(\u001b[38;5;124m'\u001b[39m\u001b[38;5;124mmin & max of list\u001b[39m\u001b[38;5;124m'\u001b[39m, \u001b[38;5;28mmin\u001b[39m(l), \u001b[38;5;28mmax\u001b[39m(l))\n\u001b[0;32m      8\u001b[0m \u001b[38;5;28mprint\u001b[39m(\u001b[38;5;124m'\u001b[39m\u001b[38;5;124mmin & max of tuple\u001b[39m\u001b[38;5;124m'\u001b[39m, \u001b[38;5;28mmin\u001b[39m(t), \u001b[38;5;28mmax\u001b[39m(t))\n\u001b[0;32m      9\u001b[0m \u001b[38;5;28mprint\u001b[39m(\u001b[38;5;124m'\u001b[39m\u001b[38;5;124mmin & max of set\u001b[39m\u001b[38;5;124m'\u001b[39m, \u001b[38;5;28mmin\u001b[39m(s), \u001b[38;5;28mmax\u001b[39m(s))\n",
      "\u001b[1;31mTypeError\u001b[0m: '<' not supported between instances of 'str' and 'bool'"
     ]
    }
   ],
   "source": [
    "l = [10,20,True,30,\"Hi\", 40,5.6, False,50, \"python\", 20.123]\n",
    "t = (100,200,True,30,\"welcome\", False,50, \"python\", 200.123, 25.25, 400)\n",
    "s = {1000,2000,True,300,\"welcome\", 500, \"python\"}\n",
    "d = {'name':'naveen', 'age':29, 'city':'Hyderabad', 'designation':'IT eng'}\n",
    "str = \"Raj Cloud Tech\"\n",
    "\n",
    "print('min & max of list', min(l), max(l))\n",
    "print('min & max of tuple', min(t), max(t))\n",
    "print('min & max of set', min(s), max(s))\n",
    "print('min & max of dict', min(d), max(d))\n",
    "print('min & max of string', min(str), max(str))"
   ]
  },
  {
   "cell_type": "code",
   "execution_count": 27,
   "id": "a5ebc505-42cf-4a3e-8e17-4069e10e32a1",
   "metadata": {},
   "outputs": [
    {
     "name": "stdout",
     "output_type": "stream",
     "text": [
      "min & max of list 5.6 50\n",
      "min & max of tuple 25.25 400\n",
      "min & max of set hello welcome\n",
      "min & max of dict age name\n",
      "min & max of string C u\n"
     ]
    }
   ],
   "source": [
    "l = [10,20,30,40,5.6, 50, 20.123]\n",
    "t = (100,200,30,50, 200.123, 25.25, 400)\n",
    "s = {\"hi\", \"hello\", \"welcome\", \"python\", \"raj cloud\"}\n",
    "d = {'name':'naveen', 'age':29, 'city':'Hyderabad', 'designation':'IT eng'}\n",
    "str = \"RajCloudTech\"\n",
    "\n",
    "print('min & max of list', min(l), max(l))\n",
    "print('min & max of tuple', min(t), max(t))\n",
    "print('min & max of set', min(s), max(s))\n",
    "print('min & max of dict', min(d), max(d))\n",
    "print('min & max of string', min(str), max(str))"
   ]
  },
  {
   "cell_type": "code",
   "execution_count": 29,
   "id": "012b5ca1-fc15-431c-8e76-1a85b8244ef0",
   "metadata": {},
   "outputs": [
    {
     "name": "stdout",
     "output_type": "stream",
     "text": [
      "min & max of tuple False True\n"
     ]
    }
   ],
   "source": [
    "t1 = (True, False)\n",
    "print('min & max of tuple', min(t1), max(t1))"
   ]
  },
  {
   "cell_type": "code",
   "execution_count": 31,
   "id": "18034374-b0c5-4f0b-9a97-0a2086ee2577",
   "metadata": {},
   "outputs": [
    {
     "name": "stdout",
     "output_type": "stream",
     "text": [
      "min & max of list 5.6 50 175.72299999999998\n",
      "min & max of tuple 25.25 400 1005.373\n"
     ]
    },
    {
     "ename": "TypeError",
     "evalue": "unsupported operand type(s) for +: 'int' and 'str'",
     "output_type": "error",
     "traceback": [
      "\u001b[1;31m---------------------------------------------------------------------------\u001b[0m",
      "\u001b[1;31mTypeError\u001b[0m                                 Traceback (most recent call last)",
      "Cell \u001b[1;32mIn[31], line 9\u001b[0m\n\u001b[0;32m      7\u001b[0m \u001b[38;5;28mprint\u001b[39m(\u001b[38;5;124m'\u001b[39m\u001b[38;5;124mmin & max of list\u001b[39m\u001b[38;5;124m'\u001b[39m, \u001b[38;5;28mmin\u001b[39m(l), \u001b[38;5;28mmax\u001b[39m(l), \u001b[38;5;28msum\u001b[39m(l))\n\u001b[0;32m      8\u001b[0m \u001b[38;5;28mprint\u001b[39m(\u001b[38;5;124m'\u001b[39m\u001b[38;5;124mmin & max of tuple\u001b[39m\u001b[38;5;124m'\u001b[39m, \u001b[38;5;28mmin\u001b[39m(t), \u001b[38;5;28mmax\u001b[39m(t), \u001b[38;5;28msum\u001b[39m(t))\n\u001b[1;32m----> 9\u001b[0m \u001b[38;5;28mprint\u001b[39m(\u001b[38;5;124m'\u001b[39m\u001b[38;5;124mmin & max of set\u001b[39m\u001b[38;5;124m'\u001b[39m, \u001b[38;5;28mmin\u001b[39m(s), \u001b[38;5;28mmax\u001b[39m(s), \u001b[38;5;28msum\u001b[39m(s))\n\u001b[0;32m     10\u001b[0m \u001b[38;5;28mprint\u001b[39m(\u001b[38;5;124m'\u001b[39m\u001b[38;5;124mmin & max of dict\u001b[39m\u001b[38;5;124m'\u001b[39m, \u001b[38;5;28mmin\u001b[39m(d), \u001b[38;5;28mmax\u001b[39m(d), \u001b[38;5;28msum\u001b[39m(d))\n\u001b[0;32m     11\u001b[0m \u001b[38;5;28mprint\u001b[39m(\u001b[38;5;124m'\u001b[39m\u001b[38;5;124mmin & max of string\u001b[39m\u001b[38;5;124m'\u001b[39m, \u001b[38;5;28mmin\u001b[39m(\u001b[38;5;28mstr\u001b[39m), \u001b[38;5;28mmax\u001b[39m(\u001b[38;5;28mstr\u001b[39m), \u001b[38;5;28msum\u001b[39m(\u001b[38;5;28mstr\u001b[39m))\n",
      "\u001b[1;31mTypeError\u001b[0m: unsupported operand type(s) for +: 'int' and 'str'"
     ]
    }
   ],
   "source": [
    "l = [10,20,30,40,5.6, 50, 20.123]\n",
    "t = (100,200,30,50, 200.123, 25.25, 400)\n",
    "s = {\"hi\", \"hello\", \"welcome\", \"python\", \"raj cloud\"}\n",
    "d = {'name':'naveen', 'age':29, 'city':'Hyderabad', 'designation':'IT eng'}\n",
    "str = \"RajCloudTech\"\n",
    "\n",
    "print('min & max of list', min(l), max(l), sum(l))\n",
    "print('min & max of tuple', min(t), max(t), sum(t))\n",
    "print('min & max of set', min(s), max(s), sum(s))\n",
    "print('min & max of dict', min(d), max(d), sum(d))\n",
    "print('min & max of string', min(str), max(str), sum(str))"
   ]
  },
  {
   "cell_type": "code",
   "execution_count": 37,
   "id": "7493bee2-0cbd-45d4-9139-97a845cf4d6e",
   "metadata": {},
   "outputs": [
    {
     "name": "stdout",
     "output_type": "stream",
     "text": [
      "min & max of list 5.6 50 175.72299999999998\n",
      "min & max of tuple 25.25 400 1005.373\n"
     ]
    }
   ],
   "source": [
    "l = [10,20,30,40,5.6, 50, 20.123]\n",
    "t = (100,200,30,50, 200.123, 25.25, 400)\n",
    "# s = {\"hi\", \"hello\", \"welcome\", \"python\", \"raj cloud\"}\n",
    "# d = {'name':'naveen', 'age':29, 'city':'Hyderabad', 'designation':'IT eng'}\n",
    "# str = \"RajCloudTech\"\n",
    "\n",
    "print('min & max of list', min(l), max(l), sum(l))\n",
    "print('min & max of tuple', min(t), max(t), sum(t))\n",
    "# print('min & max of set', min(s), max(s), sum(s))\n",
    "# print('min & max of dict', min(d), max(d), sum(d))\n",
    "# print('min & max of string', min(str), max(str), sum(str))"
   ]
  },
  {
   "cell_type": "code",
   "execution_count": 38,
   "id": "40307498-3399-4d0f-bee0-9c764007be5d",
   "metadata": {},
   "outputs": [
    {
     "name": "stdout",
     "output_type": "stream",
     "text": [
      "5.6\n",
      "50\n"
     ]
    }
   ],
   "source": [
    "print(min(10,20,30,40,5.6, 50, 20.123))\n",
    "print(max(10,20,30,40,5.6, 50, 20.123))"
   ]
  },
  {
   "cell_type": "code",
   "execution_count": 39,
   "id": "8953c315-96fc-46b4-bc24-4f4cdfe70118",
   "metadata": {},
   "outputs": [
    {
     "name": "stdout",
     "output_type": "stream",
     "text": [
      "175.72299999999998\n",
      "10175.723\n"
     ]
    }
   ],
   "source": [
    "l = [10,20,30,40,5.6, 50, 20.123]\n",
    "print(sum(l))\n",
    "print(sum(l, start= 10000))"
   ]
  },
  {
   "cell_type": "code",
   "execution_count": null,
   "id": "8b1ab4d7-28e6-400b-a84c-2100cfaf9da0",
   "metadata": {},
   "outputs": [],
   "source": []
  },
  {
   "cell_type": "code",
   "execution_count": 44,
   "id": "bc5137a2-bbfd-45c5-9e4a-91d63a451753",
   "metadata": {},
   "outputs": [
    {
     "name": "stdout",
     "output_type": "stream",
     "text": [
      "all & any of list True True\n",
      "all & any of tuple True True\n",
      "all & any of tuple True True\n"
     ]
    }
   ],
   "source": [
    "# even all & any also can be applied for all collections str,list,tuple,set,dict\n",
    "l = [10,20,30,40,5.6, 50, 20.123]\n",
    "t = (100,200,30,50, 200.123, 25.25, 400)\n",
    "s = {\"hi\",\"welcome\",\"python\"}\n",
    "\n",
    "print('all & any of list', all(l), any(l))\n",
    "print('all & any of tuple', all(t), any(t))\n",
    "print('all & any of tuple', all(s), any(s))"
   ]
  },
  {
   "cell_type": "code",
   "execution_count": 42,
   "id": "b7e34b9c-cc5e-4762-bd7f-9806f9d67bc0",
   "metadata": {},
   "outputs": [
    {
     "name": "stdout",
     "output_type": "stream",
     "text": [
      "all & any of list False True\n",
      "all & any of tuple False True\n",
      "all & any of tuple False True\n"
     ]
    }
   ],
   "source": [
    "# non 0 value treated as True\n",
    "# 0 & None treated as False\n",
    "l = [10,20,30,40,5.6, 50, 20.123, 0]\n",
    "t = (100,200,30,50, 200.123, 25.25, 400, None)\n",
    "s = {\"hi\",\"welcome\",False}\n",
    "\n",
    "print('all & any of list', all(l), any(l))\n",
    "print('all & any of tuple', all(t), any(t))\n",
    "print('all & any of tuple', all(s), any(s))"
   ]
  },
  {
   "cell_type": "code",
   "execution_count": 56,
   "id": "ae3d7155-3525-44f3-aef2-1addc5fc5a8b",
   "metadata": {},
   "outputs": [
    {
     "name": "stdout",
     "output_type": "stream",
     "text": [
      "<enumerate object at 0x00000262E7492250>\n"
     ]
    }
   ],
   "source": [
    "# enumarate() method returns enumate obj when its applied iterable objects\n",
    "l = [10,20,30.45,40.56,50,60]\n",
    "enum_obj = enumerate(l)\n",
    "print(enum_obj)"
   ]
  },
  {
   "cell_type": "code",
   "execution_count": 57,
   "id": "73f0ddb2-1a61-49a8-96b5-9526b992cd83",
   "metadata": {},
   "outputs": [
    {
     "name": "stdout",
     "output_type": "stream",
     "text": [
      "(0, 10)\n",
      "(1, 20)\n",
      "(2, 30.45)\n",
      "(3, 40.56)\n",
      "(4, 50)\n",
      "(5, 60)\n"
     ]
    }
   ],
   "source": [
    "# enum_obj returns each elements index & value as a tuple from given collection/iterable object \n",
    "# list is a iterable collection here\n",
    "for item in enum_obj:\n",
    "    print(item)"
   ]
  },
  {
   "cell_type": "code",
   "execution_count": 61,
   "id": "c61a173f-abe8-4f02-a7ed-083596ae0fa5",
   "metadata": {},
   "outputs": [
    {
     "name": "stdout",
     "output_type": "stream",
     "text": [
      "[10, 20, 30.45, 40.56, 50, 60]\n",
      "(0, 10)\n",
      "(1, 20)\n",
      "(2, 30.45)\n",
      "(3, 40.56)\n",
      "(4, 50)\n",
      "(5, 60)\n"
     ]
    }
   ],
   "source": [
    "l = [10,20,30.45,40.56,50,60]\n",
    "enum_obj = enumerate(l)\n",
    "print(l)\n",
    "\n",
    "for item in enum_obj:\n",
    "    print(item)"
   ]
  },
  {
   "cell_type": "code",
   "execution_count": 62,
   "id": "121be043-feef-44ae-887e-d8c8343edae0",
   "metadata": {},
   "outputs": [],
   "source": [
    "# enum_obj traverse through each element reference, when iterable collection\n",
    "# finishes the elements, enum_obj cannot proceed further or does not point to given \n",
    "# list (here, but can be any collection) any more as iteration finished\n",
    "for item in enum_obj:\n",
    "    print(item)"
   ]
  },
  {
   "cell_type": "code",
   "execution_count": 66,
   "id": "e94fd457-59e6-48e6-930c-249f7b3bb098",
   "metadata": {},
   "outputs": [
    {
     "name": "stdout",
     "output_type": "stream",
     "text": [
      "identifier of list 2623796805760\n",
      "identifier of enum_obj 2623810379728\n",
      "[10, 20, 30]\n",
      "item 1: (0, 10)\n",
      "item 2: (1, 20)\n",
      "item 2: (2, 30)\n"
     ]
    },
    {
     "ename": "StopIteration",
     "evalue": "",
     "output_type": "error",
     "traceback": [
      "\u001b[1;31m---------------------------------------------------------------------------\u001b[0m",
      "\u001b[1;31mStopIteration\u001b[0m                             Traceback (most recent call last)",
      "Cell \u001b[1;32mIn[66], line 9\u001b[0m\n\u001b[0;32m      7\u001b[0m \u001b[38;5;28mprint\u001b[39m(\u001b[38;5;124m'\u001b[39m\u001b[38;5;124mitem 2:\u001b[39m\u001b[38;5;124m'\u001b[39m, \u001b[38;5;28mnext\u001b[39m(enum_obj))\n\u001b[0;32m      8\u001b[0m \u001b[38;5;28mprint\u001b[39m(\u001b[38;5;124m'\u001b[39m\u001b[38;5;124mitem 2:\u001b[39m\u001b[38;5;124m'\u001b[39m, \u001b[38;5;28mnext\u001b[39m(enum_obj))\n\u001b[1;32m----> 9\u001b[0m \u001b[38;5;28mprint\u001b[39m(\u001b[38;5;124m'\u001b[39m\u001b[38;5;124mitem 4:\u001b[39m\u001b[38;5;124m'\u001b[39m, \u001b[38;5;28mnext\u001b[39m(enum_obj))\n\u001b[0;32m     11\u001b[0m \u001b[38;5;28mprint\u001b[39m(\u001b[38;5;124m'\u001b[39m\u001b[38;5;124mafter enumeration identifier of enum_obj\u001b[39m\u001b[38;5;124m'\u001b[39m, \u001b[38;5;28mid\u001b[39m(enum_obj))\n",
      "\u001b[1;31mStopIteration\u001b[0m: "
     ]
    }
   ],
   "source": [
    "l = [10,20,30]\n",
    "enum_obj = enumerate(l)\n",
    "print('identifier of list', id(l))\n",
    "print('identifier of enum_obj', id(enum_obj))\n",
    "print(l)\n",
    "print('item 1:', next(enum_obj))\n",
    "print('item 2:', next(enum_obj))\n",
    "print('item 2:', next(enum_obj))\n",
    "print('item 4:', next(enum_obj))\n",
    "\n",
    "print('after enumeration identifier of enum_obj', id(enum_obj))"
   ]
  },
  {
   "cell_type": "code",
   "execution_count": 68,
   "id": "25abf60d-d6e1-44d9-aa60-8bd48735be39",
   "metadata": {},
   "outputs": [
    {
     "name": "stdout",
     "output_type": "stream",
     "text": [
      "<enumerate object at 0x00000262E7492F20>\n"
     ]
    }
   ],
   "source": [
    "s = {\"hi\",\"welcome\",False}\n",
    "enum_obj = enumerate(l)\n",
    "print(enum_obj)"
   ]
  },
  {
   "cell_type": "code",
   "execution_count": 69,
   "id": "ad3edc15-56f5-49f3-bb72-30a9f3cf23ac",
   "metadata": {},
   "outputs": [
    {
     "name": "stdout",
     "output_type": "stream",
     "text": [
      "(0, 10)\n",
      "(1, 20)\n",
      "(2, 30)\n"
     ]
    }
   ],
   "source": [
    "for item in enum_obj:\n",
    "    print(item)"
   ]
  },
  {
   "cell_type": "code",
   "execution_count": 70,
   "id": "9fcb774f-a709-41f9-be52-b723d3328af3",
   "metadata": {},
   "outputs": [
    {
     "name": "stdout",
     "output_type": "stream",
     "text": [
      "{'welcome', 'hi', False}\n",
      "(0, 10)\n",
      "(1, 20)\n",
      "(2, 30)\n",
      "[(0, 10), (1, 20), (2, 30)]\n"
     ]
    }
   ],
   "source": [
    "s = {\"hi\",\"welcome\",False}\n",
    "print(s)\n",
    "enum_obj = enumerate(l)\n",
    "l = []\n",
    "for item in enum_obj:\n",
    "    print(item)\n",
    "    l.append(item)\n",
    "\n",
    "print(l)"
   ]
  }
 ],
 "metadata": {
  "kernelspec": {
   "display_name": "Python 3 (ipykernel)",
   "language": "python",
   "name": "python3"
  },
  "language_info": {
   "codemirror_mode": {
    "name": "ipython",
    "version": 3
   },
   "file_extension": ".py",
   "mimetype": "text/x-python",
   "name": "python",
   "nbconvert_exporter": "python",
   "pygments_lexer": "ipython3",
   "version": "3.11.7"
  }
 },
 "nbformat": 4,
 "nbformat_minor": 5
}
